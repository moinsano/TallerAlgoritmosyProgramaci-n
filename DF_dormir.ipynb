{
 "cells": [
  {
   "cell_type": "code",
   "execution_count": null,
   "metadata": {},
   "outputs": [],
   "source": [
    "def decidir_dormir(hay_ruido, hay_mas_habitaciones, se_puede_soportar_ruido):\n",
    "    if not hay_ruido:\n",
    "        # Dormir sin problemas\n",
    "        return \"Dormir sin problemas\"\n",
    "    \n",
    "    if hay_mas_habitaciones:\n",
    "        # Dormir en otra habitación\n",
    "        return \"Dormir en otra habitación\"\n",
    "    \n",
    "    if se_puede_soportar_ruido:\n",
    "        # Dormir usando tapones para los oídos\n",
    "        return \"Dormir usando tapones para los oídos\"\n",
    "    \n",
    "    # No se puede dormir\n",
    "    return \"No se puede dormir\"\n",
    "\n",
    "# Ejemplo de uso\n",
    "resultado = decidir_dormir(hay_ruido=True, hay_mas_habitaciones=False, se_puede_soportar_ruido=True)\n",
    "print(resultado)"
   ]
  }
 ],
 "metadata": {
  "language_info": {
   "name": "python"
  }
 },
 "nbformat": 4,
 "nbformat_minor": 2
}
